{
 "cells": [
  {
   "cell_type": "code",
   "execution_count": 1,
   "metadata": {},
   "outputs": [],
   "source": [
    "def SelectionSort(val):\n",
    "    for isi in range(len(val)-1,0,-1):\n",
    "        Max=0\n",
    "        for lokasi in range(1,isi+1):\n",
    "            if val[lokasi]>val[Max]:\n",
    "                Max = lokasi\n",
    "                \n",
    "        temp=val[isi]\n",
    "        val[isi]=val[Max]\n",
    "        val[Max]=temp"
   ]
  },
  {
   "cell_type": "code",
   "execution_count": 2,
   "metadata": {},
   "outputs": [
    {
     "name": "stdout",
     "output_type": "stream",
     "text": [
      "[12, 16, 25, 57, 89]\n"
     ]
    }
   ],
   "source": [
    "list=[89,12,57,16,25]\n",
    "SelectionSort(list)\n",
    "print(list)"
   ]
  },
  {
   "cell_type": "code",
   "execution_count": 5,
   "metadata": {},
   "outputs": [],
   "source": [
    "def InsertionSort(val):\n",
    "    for index in range(1,len(val)):\n",
    "        valueaktif=val[index]\n",
    "        posisi=index\n",
    "        \n",
    "        while posisi>0 and val[posisi-1]>valueaktif:\n",
    "            val[posisi]=val[posisi-1]\n",
    "            posisi=posisi-1\n",
    "            \n",
    "        val[posisi]=valueaktif"
   ]
  },
  {
   "cell_type": "code",
   "execution_count": 9,
   "metadata": {},
   "outputs": [],
   "source": [
    "list=[89,12,57,16,25,11,75]"
   ]
  },
  {
   "cell_type": "code",
   "execution_count": 8,
   "metadata": {},
   "outputs": [
    {
     "name": "stdout",
     "output_type": "stream",
     "text": [
      "[11, 12, 16, 25, 57, 75, 89]\n"
     ]
    }
   ],
   "source": [
    "InsertionSort(list)\n",
    "print(list)"
   ]
  }
 ],
 "metadata": {
  "kernelspec": {
   "display_name": "Python 3",
   "language": "python",
   "name": "python3"
  },
  "language_info": {
   "codemirror_mode": {
    "name": "ipython",
    "version": 3
   },
   "file_extension": ".py",
   "mimetype": "text/x-python",
   "name": "python",
   "nbconvert_exporter": "python",
   "pygments_lexer": "ipython3",
   "version": "3.8.3"
  }
 },
 "nbformat": 4,
 "nbformat_minor": 4
}
